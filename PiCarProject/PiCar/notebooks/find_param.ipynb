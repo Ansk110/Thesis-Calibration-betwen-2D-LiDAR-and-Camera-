{
 "cells": [
  {
   "cell_type": "code",
   "execution_count": null,
   "id": "ff2a320f",
   "metadata": {
    "tags": []
   },
   "outputs": [],
   "source": [
    "import os\n",
    "import cv2\n",
    "import optuna\n",
    "import numpy as np\n",
    "from pathlib import Path\n",
    "from tqdm.auto import tqdm"
   ]
  },
  {
   "cell_type": "code",
   "execution_count": null,
   "id": "1cd61d5d",
   "metadata": {},
   "outputs": [],
   "source": [
    "optuna.logging.set_verbosity(optuna.logging.WARNING)"
   ]
  },
  {
   "cell_type": "code",
   "execution_count": null,
   "id": "e025cef3-0a84-4f8b-b24f-df5aad05ecc9",
   "metadata": {},
   "outputs": [],
   "source": [
    "%cd .."
   ]
  },
  {
   "cell_type": "code",
   "execution_count": null,
   "id": "ce5cafb5-7e49-4df1-ba9e-665d08fc5b8f",
   "metadata": {},
   "outputs": [],
   "source": [
    "from src.transform import get_extrinsic_matrix\n",
    "from src.camera import load_image, undistort_image\n",
    "from src.calibration import find_x_coordinate, get_calibration_points, get_calibration_error\n",
    "from src.aruco import get_aruco_marker_corners, get_aruco_marker_inner_corners, draw_aruco_markers\n",
    "from src.lidar import load_lidar_data, process_lidar_data, filter_lidar_data, get_lidar_terminal_points"
   ]
  },
  {
   "cell_type": "code",
   "execution_count": null,
   "id": "97d74fd2",
   "metadata": {
    "tags": []
   },
   "outputs": [],
   "source": [
    "def get_img_mask(points, img_dim):\n",
    "    h, w = img_dim\n",
    "    w_mask = (0 <= points[:, 0]) & (points[:, 0] < w)\n",
    "    h_mask = (0 <= points[:, 1]) & (points[:, 1] < h)\n",
    "    mask = w_mask & h_mask\n",
    "    return mask"
   ]
  },
  {
   "cell_type": "code",
   "execution_count": null,
   "id": "314c91b0",
   "metadata": {
    "tags": []
   },
   "outputs": [],
   "source": [
    "def save_parameters(path, **kwargs):\n",
    "    np.savez(path, **kwargs)\n",
    "    print(\"Parameters:\", list(kwargs.keys()))\n",
    "    print(\"Parameters saved to:\", path)"
   ]
  },
  {
   "cell_type": "code",
   "execution_count": null,
   "id": "9931dbe4",
   "metadata": {
    "tags": []
   },
   "outputs": [],
   "source": [
    "def calibrate(roll_deg, pitch_deg, yaw_deg, x0, y0, z0, scale_x, scale_y, trans_x, trans_y):    \n",
    "    global images, lidar_data, cam_matrix, dist_coeffs\n",
    "    \n",
    "    scale_mat = np.array([\n",
    "        [scale_x, 0],\n",
    "        [0, scale_y],\n",
    "    ])\n",
    "    trans_vec = np.array([trans_x, trans_y])\n",
    "    extrinsic_mat = get_extrinsic_matrix(roll_deg, pitch_deg, yaw_deg, x0=x0, y0=y0, z0=z0)\n",
    "    \n",
    "    errors = []\n",
    "    for img, lidar in zip(images, lidar_data):\n",
    "        img = img.copy()\n",
    "        img = undistort_image(img, cam_matrix, dist_coeffs)\n",
    "        marker_corners = get_aruco_marker_corners(img)\n",
    "        \n",
    "        lidar_pixels = process_lidar_data(lidar, extrinsic_mat, cam_matrix, dist_coeffs, scale_mat, trans_vec)\n",
    "        lidar_terminal_points = get_lidar_terminal_points(lidar_pixels)\n",
    "        cal_points = get_calibration_points(marker_corners, lidar_terminal_points)\n",
    "        cal_error = get_calibration_error(cal_points, lidar_terminal_points)\n",
    "        errors.append(cal_error)\n",
    "    return np.mean(errors)"
   ]
  },
  {
   "cell_type": "code",
   "execution_count": null,
   "id": "f21b2b7b",
   "metadata": {
    "tags": []
   },
   "outputs": [],
   "source": [
    "def obj_function(trial):\n",
    "    # Optimized parameters\n",
    "    roll_deg = trial.suggest_int(\"roll_deg\", 70, 100)\n",
    "    pitch_deg = trial.suggest_int(\"pitch_deg\", 260, 280)\n",
    "    yaw_deg = trial.suggest_int(\"yaw_deg\", 170, 200)\n",
    "    x0 = trial.suggest_int(\"x0\", -15, 50)\n",
    "    y0 = trial.suggest_int(\"y0\", -15, 50)\n",
    "    z0 = trial.suggest_int(\"z0\", -15, 50)\n",
    "    scale_x = trial.suggest_float(\"scale_x\", 1.0, 3.0)\n",
    "    trans_x = trial.suggest_int(\"trans_x\", -300, 0)\n",
    "    # trans_y = trial.suggest_int(\"trans_y\", -100, 0)\n",
    "    \n",
    "    # Constant parameters\n",
    "    # x0, y0, z0 = 10, 30, 40\n",
    "    scale_y = 1.0\n",
    "    trans_y = -50\n",
    "    return calibrate(roll_deg, pitch_deg, yaw_deg, x0, y0, z0, scale_x, scale_y, trans_x, trans_y)"
   ]
  },
  {
   "cell_type": "markdown",
   "id": "c67be032-b29c-45f7-8118-fac0250e3970",
   "metadata": {},
   "source": [
    "# Load data"
   ]
  },
  {
   "cell_type": "code",
   "execution_count": null,
   "id": "4b119e01-a5e4-41db-b8dc-afb271bd686b",
   "metadata": {
    "tags": []
   },
   "outputs": [],
   "source": [
    "path2data = Path(\"data/calibration_data/\")\n",
    "\n",
    "num_images = len(list(path2data.glob(\"*.jpg\")))\n",
    "num_lidar_data = len(list(path2data.glob(\"*.npy\")))\n",
    "assert num_images == num_lidar_data\n",
    "\n",
    "num_data = num_images\n",
    "\n",
    "assert num_data > 0, \"No data found!\""
   ]
  },
  {
   "cell_type": "code",
   "execution_count": null,
   "id": "992c0707-fa6e-46ff-96e6-3e1651efe181",
   "metadata": {
    "tags": []
   },
   "outputs": [],
   "source": [
    "images = []\n",
    "lidar_data = []\n",
    "for i in tqdm(range(num_data), desc=\"Loading Data\"):\n",
    "    path2image = path2data / f\"data_{i+1}.jpg\"\n",
    "    path2lidar = path2data / f\"data_{i+1}.npy\"\n",
    "    img = load_image(path2image)\n",
    "    lidar_points = load_lidar_data(path2lidar)\n",
    "    lidar_points = filter_lidar_data(lidar_points)\n",
    "    images.append(img)\n",
    "    lidar_data.append(lidar_points)"
   ]
  },
  {
   "cell_type": "markdown",
   "id": "2b445933-e732-417c-8612-64d1237770d0",
   "metadata": {},
   "source": [
    "# Load Camera Intrinsic Parameter"
   ]
  },
  {
   "cell_type": "code",
   "execution_count": null,
   "id": "c92fe406-e7c7-42a1-8de5-ba4c98a2c7a2",
   "metadata": {
    "tags": []
   },
   "outputs": [],
   "source": [
    "path2intrinsic_params = Path(\"data/parameters/camera_intrinsic_params.npz\")\n",
    "int_params = np.load(path2intrinsic_params)\n",
    "cam_matrix = int_params[\"camera_matrix\"]\n",
    "cam_matrix"
   ]
  },
  {
   "cell_type": "code",
   "execution_count": null,
   "id": "0e18c4da-adac-4584-ad4b-ff193664412e",
   "metadata": {
    "tags": []
   },
   "outputs": [],
   "source": [
    "dist_coeffs = int_params[\"dist_coeffs\"]\n",
    "dist_coeffs"
   ]
  },
  {
   "cell_type": "markdown",
   "id": "d4490801-393b-4e26-ba52-4163421c4195",
   "metadata": {},
   "source": [
    "# Search parameters"
   ]
  },
  {
   "cell_type": "code",
   "execution_count": null,
   "id": "2865c997",
   "metadata": {
    "tags": []
   },
   "outputs": [],
   "source": [
    "study = optuna.create_study(\n",
    "    study_name=\"lidar_param_study\",\n",
    "    storage=\"sqlite:///lidar_param_1.db\",\n",
    "    load_if_exists=True,\n",
    "    direction=\"minimize\",\n",
    "    sampler=optuna.samplers.TPESampler(n_startup_trials=100, n_ei_candidates=200),\n",
    ")"
   ]
  },
  {
   "cell_type": "code",
   "execution_count": null,
   "id": "16084f25",
   "metadata": {
    "tags": []
   },
   "outputs": [],
   "source": [
    "for _ in range(8):\n",
    "    study.optimize(obj_function, n_trials=5000, show_progress_bar=True)\n",
    "    \n",
    "    trial = study.best_trial\n",
    "    print(\"Best Score: \", trial.value)\n",
    "    print(\"Best Params: \")\n",
    "    for key, value in trial.params.items():\n",
    "        print(\"  {}: {}\".format(key, value))"
   ]
  },
  {
   "cell_type": "code",
   "execution_count": null,
   "id": "5446fbcb",
   "metadata": {},
   "outputs": [],
   "source": []
  }
 ],
 "metadata": {
  "kernelspec": {
   "display_name": "Python 3 (ipykernel)",
   "language": "python",
   "name": "python3"
  },
  "language_info": {
   "codemirror_mode": {
    "name": "ipython",
    "version": 3
   },
   "file_extension": ".py",
   "mimetype": "text/x-python",
   "name": "python",
   "nbconvert_exporter": "python",
   "pygments_lexer": "ipython3",
   "version": "3.8.19"
  },
  "widgets": {
   "application/vnd.jupyter.widget-state+json": {
    "state": {
     "01b8203e842e451d9d179c12b8bb1fcc": {
      "model_module": "@jupyter-widgets/controls",
      "model_module_version": "2.0.0",
      "model_name": "HTMLModel",
      "state": {
       "layout": "IPY_MODEL_565b7d787bfd445e8b8628a52e7b8ac5",
       "style": "IPY_MODEL_7d3730294e8d44a090d745dd8ab35895",
       "value": "Loading Data: 100%"
      }
     },
     "02207540595a4b5796c55ca3f03af742": {
      "model_module": "@jupyter-widgets/base",
      "model_module_version": "2.0.0",
      "model_name": "LayoutModel",
      "state": {}
     },
     "0234fc56aaeb4c00b9f93d5ac15e26b0": {
      "model_module": "@jupyter-widgets/base",
      "model_module_version": "2.0.0",
      "model_name": "LayoutModel",
      "state": {}
     },
     "02c5e789a1344720be68316b5cf249ec": {
      "model_module": "@jupyter-widgets/controls",
      "model_module_version": "2.0.0",
      "model_name": "FloatProgressModel",
      "state": {
       "bar_style": "success",
       "layout": "IPY_MODEL_bc7c841a40d64308bf6ab8d15c7b4d6d",
       "max": 1000,
       "style": "IPY_MODEL_9e83a87044ed4a8cb81a0ee95ff30061",
       "value": 1000
      }
     },
     "04509d00fc29432397e5699bb1940bb2": {
      "model_module": "@jupyter-widgets/controls",
      "model_module_version": "2.0.0",
      "model_name": "HTMLModel",
      "state": {
       "layout": "IPY_MODEL_608942674bea441a93a0a07255e4c5ca",
       "style": "IPY_MODEL_aa26efe40d56454d8bb13e856ed4f426",
       "value": " 6/6 [00:00&lt;00:00, 109.87it/s]"
      }
     },
     "04d92e356a5c4161b24b709ee78d99ba": {
      "model_module": "@jupyter-widgets/base",
      "model_module_version": "2.0.0",
      "model_name": "LayoutModel",
      "state": {}
     },
     "04e0d8b215f14f1080aecd09c04d1481": {
      "model_module": "@jupyter-widgets/controls",
      "model_module_version": "2.0.0",
      "model_name": "HTMLModel",
      "state": {
       "layout": "IPY_MODEL_0234fc56aaeb4c00b9f93d5ac15e26b0",
       "style": "IPY_MODEL_6277480e663d43fab4e95fd38a0bd26f",
       "value": "Best trial: 178. Best value: 170.839:  21%"
      }
     },
     "06da9bf35cf74c6581729776b36528f0": {
      "model_module": "@jupyter-widgets/base",
      "model_module_version": "2.0.0",
      "model_name": "LayoutModel",
      "state": {}
     },
     "08e7ec88f4654709b8c349a31ccc4171": {
      "model_module": "@jupyter-widgets/controls",
      "model_module_version": "2.0.0",
      "model_name": "HTMLStyleModel",
      "state": {
       "description_width": "",
       "font_size": null,
       "text_color": null
      }
     },
     "09f20b4628094b7482b2d011f78d0f71": {
      "model_module": "@jupyter-widgets/base",
      "model_module_version": "2.0.0",
      "model_name": "LayoutModel",
      "state": {}
     },
     "1367f38045e34446931680a61c1fbd62": {
      "model_module": "@jupyter-widgets/controls",
      "model_module_version": "2.0.0",
      "model_name": "HTMLStyleModel",
      "state": {
       "description_width": "",
       "font_size": null,
       "text_color": null
      }
     },
     "14394eb0ade640de9a2c8219c755dd4a": {
      "model_module": "@jupyter-widgets/controls",
      "model_module_version": "2.0.0",
      "model_name": "HTMLStyleModel",
      "state": {
       "description_width": "",
       "font_size": null,
       "text_color": null
      }
     },
     "154b2925a5f5415abb5104c93eae67d5": {
      "model_module": "@jupyter-widgets/controls",
      "model_module_version": "2.0.0",
      "model_name": "HBoxModel",
      "state": {
       "children": [
        "IPY_MODEL_4f4dd239092d47509c4d7efc7f76d64b",
        "IPY_MODEL_46cf37ed5a17471fb45d1989d2d46aed",
        "IPY_MODEL_6f5fd8a3939042a88ac8dd47956fbff6"
       ],
       "layout": "IPY_MODEL_6acbd923ad5c4fc480c92215d01829ed"
      }
     },
     "16ae9cb4649d4037a6d93aa1103c92c0": {
      "model_module": "@jupyter-widgets/controls",
      "model_module_version": "2.0.0",
      "model_name": "HTMLStyleModel",
      "state": {
       "description_width": "",
       "font_size": null,
       "text_color": null
      }
     },
     "18c6952f91294dff81a253cae841d6a7": {
      "model_module": "@jupyter-widgets/controls",
      "model_module_version": "2.0.0",
      "model_name": "HTMLModel",
      "state": {
       "layout": "IPY_MODEL_04d92e356a5c4161b24b709ee78d99ba",
       "style": "IPY_MODEL_f7de4f53f83740d3b469015fd044ea2f",
       "value": "Best trial: 1803. Best value: 25.9078:  10%"
      }
     },
     "245665507e234b9f917c3fa6d6a75acc": {
      "model_module": "@jupyter-widgets/controls",
      "model_module_version": "2.0.0",
      "model_name": "HTMLModel",
      "state": {
       "layout": "IPY_MODEL_09f20b4628094b7482b2d011f78d0f71",
       "style": "IPY_MODEL_08e7ec88f4654709b8c349a31ccc4171",
       "value": "Best trial: 987. Best value: 26.1861: 100%"
      }
     },
     "25562f5a62bb4ce68e19b3bf98bfe031": {
      "model_module": "@jupyter-widgets/controls",
      "model_module_version": "2.0.0",
      "model_name": "HTMLModel",
      "state": {
       "layout": "IPY_MODEL_cb2b4f76ded04a03a010995aa849c096",
       "style": "IPY_MODEL_256603d40f5f4d97ba0b7276601002e6",
       "value": " 1013/10000 [02:39&lt;29:14,  5.12it/s]"
      }
     },
     "256603d40f5f4d97ba0b7276601002e6": {
      "model_module": "@jupyter-widgets/controls",
      "model_module_version": "2.0.0",
      "model_name": "HTMLStyleModel",
      "state": {
       "description_width": "",
       "font_size": null,
       "text_color": null
      }
     },
     "299cf0c207da464a897002cc27f729a7": {
      "model_module": "@jupyter-widgets/controls",
      "model_module_version": "2.0.0",
      "model_name": "HTMLStyleModel",
      "state": {
       "description_width": "",
       "font_size": null,
       "text_color": null
      }
     },
     "2a9ab2d5d75a41a9bc891bb52a0c3734": {
      "model_module": "@jupyter-widgets/controls",
      "model_module_version": "2.0.0",
      "model_name": "HTMLStyleModel",
      "state": {
       "description_width": "",
       "font_size": null,
       "text_color": null
      }
     },
     "2b450581d40947dfb6a236ffa02b11e9": {
      "model_module": "@jupyter-widgets/controls",
      "model_module_version": "2.0.0",
      "model_name": "HBoxModel",
      "state": {
       "children": [
        "IPY_MODEL_f8eb0a52e53649e0afcc67119d502b2f",
        "IPY_MODEL_57539f2da4db4f2286ba0c8acb6323dd",
        "IPY_MODEL_f1354386cd8045d1a00ac7118407861f"
       ],
       "layout": "IPY_MODEL_d6ef54e57a294395834c022150c0f031"
      }
     },
     "2beab32a7c91437cb1ed75d864738693": {
      "model_module": "@jupyter-widgets/base",
      "model_module_version": "2.0.0",
      "model_name": "LayoutModel",
      "state": {}
     },
     "2f622c5516f14fa6b1c561dfcf6902e9": {
      "model_module": "@jupyter-widgets/controls",
      "model_module_version": "2.0.0",
      "model_name": "FloatProgressModel",
      "state": {
       "bar_style": "danger",
       "layout": "IPY_MODEL_8b888a212cf14f0f8c439ab8a3675565",
       "max": 1000,
       "style": "IPY_MODEL_70222a2adb2b42afa89d7cf47bba7dd9",
       "value": 211
      }
     },
     "3003fc44140643dc8adbdb3eb63a714a": {
      "model_module": "@jupyter-widgets/controls",
      "model_module_version": "2.0.0",
      "model_name": "HBoxModel",
      "state": {
       "children": [
        "IPY_MODEL_9fb866e532594034b1691d7c1d67156e",
        "IPY_MODEL_496ed44abefa4570aedc83a3fb66b446",
        "IPY_MODEL_a3850839a84f48dbb6fec51c1c4bd741"
       ],
       "layout": "IPY_MODEL_ba71496ecfdf4a4fb2159181a5d06140"
      }
     },
     "31cbe1bcc0724052be8797d2273f48ea": {
      "model_module": "@jupyter-widgets/controls",
      "model_module_version": "2.0.0",
      "model_name": "FloatProgressModel",
      "state": {
       "layout": "IPY_MODEL_387d6552a3c24d4d9bb99c7cd3aa2eaa",
       "max": 10000,
       "style": "IPY_MODEL_4e29236127ff41fc989423e1b27d8b0a",
       "value": 1013
      }
     },
     "327d5f46be15499eb5e2402c48be0648": {
      "model_module": "@jupyter-widgets/controls",
      "model_module_version": "2.0.0",
      "model_name": "ProgressStyleModel",
      "state": {
       "description_width": ""
      }
     },
     "32baba29d05c41abbe01ce8870ae4639": {
      "model_module": "@jupyter-widgets/controls",
      "model_module_version": "2.0.0",
      "model_name": "HBoxModel",
      "state": {
       "children": [
        "IPY_MODEL_18c6952f91294dff81a253cae841d6a7",
        "IPY_MODEL_31cbe1bcc0724052be8797d2273f48ea",
        "IPY_MODEL_25562f5a62bb4ce68e19b3bf98bfe031"
       ],
       "layout": "IPY_MODEL_3d637357a4d2461c8f4381a56a924452"
      }
     },
     "334bb1772b2941b4b24bd74f7fc7284b": {
      "model_module": "@jupyter-widgets/controls",
      "model_module_version": "2.0.0",
      "model_name": "HTMLStyleModel",
      "state": {
       "description_width": "",
       "font_size": null,
       "text_color": null
      }
     },
     "387d6552a3c24d4d9bb99c7cd3aa2eaa": {
      "model_module": "@jupyter-widgets/base",
      "model_module_version": "2.0.0",
      "model_name": "LayoutModel",
      "state": {}
     },
     "3d637357a4d2461c8f4381a56a924452": {
      "model_module": "@jupyter-widgets/base",
      "model_module_version": "2.0.0",
      "model_name": "LayoutModel",
      "state": {}
     },
     "402683c6ff2e4fa1acc0e1b3fc78202f": {
      "model_module": "@jupyter-widgets/base",
      "model_module_version": "2.0.0",
      "model_name": "LayoutModel",
      "state": {}
     },
     "43adef62ff5f4e7eaef5d5f8bc442c36": {
      "model_module": "@jupyter-widgets/base",
      "model_module_version": "2.0.0",
      "model_name": "LayoutModel",
      "state": {}
     },
     "46cf37ed5a17471fb45d1989d2d46aed": {
      "model_module": "@jupyter-widgets/controls",
      "model_module_version": "2.0.0",
      "model_name": "FloatProgressModel",
      "state": {
       "bar_style": "success",
       "layout": "IPY_MODEL_5afb82544de443dca8228a7752b8be17",
       "max": 1000,
       "style": "IPY_MODEL_f5a0563b0b974f21bb30cb5cb3aaf1c9",
       "value": 1000
      }
     },
     "472486fd8f4f4bc3a5c9a83db4fb2021": {
      "model_module": "@jupyter-widgets/base",
      "model_module_version": "2.0.0",
      "model_name": "LayoutModel",
      "state": {}
     },
     "48dc2881df874acfbf12a7267f1053a5": {
      "model_module": "@jupyter-widgets/controls",
      "model_module_version": "2.0.0",
      "model_name": "FloatProgressModel",
      "state": {
       "bar_style": "success",
       "layout": "IPY_MODEL_744a439a3cb64adc9f165fed6a5fc302",
       "max": 6,
       "style": "IPY_MODEL_dcaa08a4ccb841d7828cbfbe205de133",
       "value": 6
      }
     },
     "496ed44abefa4570aedc83a3fb66b446": {
      "model_module": "@jupyter-widgets/controls",
      "model_module_version": "2.0.0",
      "model_name": "FloatProgressModel",
      "state": {
       "bar_style": "success",
       "layout": "IPY_MODEL_d80f91e149c74992b7ef8221f555984b",
       "max": 6,
       "style": "IPY_MODEL_5dd745514421400e8911e983ea4d36ae",
       "value": 6
      }
     },
     "4ce06b7828784a11854902bfe7954ca8": {
      "model_module": "@jupyter-widgets/base",
      "model_module_version": "2.0.0",
      "model_name": "LayoutModel",
      "state": {}
     },
     "4e29236127ff41fc989423e1b27d8b0a": {
      "model_module": "@jupyter-widgets/controls",
      "model_module_version": "2.0.0",
      "model_name": "ProgressStyleModel",
      "state": {
       "description_width": ""
      }
     },
     "4f4dd239092d47509c4d7efc7f76d64b": {
      "model_module": "@jupyter-widgets/controls",
      "model_module_version": "2.0.0",
      "model_name": "HTMLModel",
      "state": {
       "layout": "IPY_MODEL_bed3bf173d204a518f27933ed8eaf232",
       "style": "IPY_MODEL_b06be2254ceb409baf1dfbfab22044fa",
       "value": "Best trial: 561. Best value: 26.3874: 100%"
      }
     },
     "542103f80605425f9eda0ca218c6fa3f": {
      "model_module": "@jupyter-widgets/base",
      "model_module_version": "2.0.0",
      "model_name": "LayoutModel",
      "state": {}
     },
     "5533614f560f4cdf91f5e4b99e6291a1": {
      "model_module": "@jupyter-widgets/controls",
      "model_module_version": "2.0.0",
      "model_name": "HTMLStyleModel",
      "state": {
       "description_width": "",
       "font_size": null,
       "text_color": null
      }
     },
     "565b7d787bfd445e8b8628a52e7b8ac5": {
      "model_module": "@jupyter-widgets/base",
      "model_module_version": "2.0.0",
      "model_name": "LayoutModel",
      "state": {}
     },
     "57539f2da4db4f2286ba0c8acb6323dd": {
      "model_module": "@jupyter-widgets/controls",
      "model_module_version": "2.0.0",
      "model_name": "FloatProgressModel",
      "state": {
       "bar_style": "success",
       "layout": "IPY_MODEL_c95fbd124f454f56b07a21792dad2522",
       "max": 1000,
       "style": "IPY_MODEL_f34554bf9a444e349840e29bf425d522",
       "value": 1000
      }
     },
     "580e91ec147f408e8764b03f4b45a6f9": {
      "model_module": "@jupyter-widgets/base",
      "model_module_version": "2.0.0",
      "model_name": "LayoutModel",
      "state": {}
     },
     "5afb82544de443dca8228a7752b8be17": {
      "model_module": "@jupyter-widgets/base",
      "model_module_version": "2.0.0",
      "model_name": "LayoutModel",
      "state": {}
     },
     "5b9dd96dea284d579b454c1c13fac7d6": {
      "model_module": "@jupyter-widgets/controls",
      "model_module_version": "2.0.0",
      "model_name": "HTMLModel",
      "state": {
       "layout": "IPY_MODEL_02207540595a4b5796c55ca3f03af742",
       "style": "IPY_MODEL_d26f426ef2e5434f9e5c9a4631072cd1",
       "value": " 6/6 [00:00&lt;00:00, 88.66it/s]"
      }
     },
     "5cc399f2f961475ea6eb2fc541b902fe": {
      "model_module": "@jupyter-widgets/base",
      "model_module_version": "2.0.0",
      "model_name": "LayoutModel",
      "state": {}
     },
     "5dd745514421400e8911e983ea4d36ae": {
      "model_module": "@jupyter-widgets/controls",
      "model_module_version": "2.0.0",
      "model_name": "ProgressStyleModel",
      "state": {
       "description_width": ""
      }
     },
     "5e76dc8a89d24dc09ea61ce5e4d816ff": {
      "model_module": "@jupyter-widgets/controls",
      "model_module_version": "2.0.0",
      "model_name": "HTMLModel",
      "state": {
       "layout": "IPY_MODEL_82d434c81eeb47438a3a7e6548feb4d0",
       "style": "IPY_MODEL_14394eb0ade640de9a2c8219c755dd4a",
       "value": " 6/6 [00:00&lt;00:00, 101.27it/s]"
      }
     },
     "608942674bea441a93a0a07255e4c5ca": {
      "model_module": "@jupyter-widgets/base",
      "model_module_version": "2.0.0",
      "model_name": "LayoutModel",
      "state": {}
     },
     "6277480e663d43fab4e95fd38a0bd26f": {
      "model_module": "@jupyter-widgets/controls",
      "model_module_version": "2.0.0",
      "model_name": "HTMLStyleModel",
      "state": {
       "description_width": "",
       "font_size": null,
       "text_color": null
      }
     },
     "678fac2ad2924633963096e6d95a38aa": {
      "model_module": "@jupyter-widgets/base",
      "model_module_version": "2.0.0",
      "model_name": "LayoutModel",
      "state": {}
     },
     "69ae28f96fd6456da636d3f39e0d9c4a": {
      "model_module": "@jupyter-widgets/controls",
      "model_module_version": "2.0.0",
      "model_name": "HBoxModel",
      "state": {
       "children": [
        "IPY_MODEL_ce18e68c55af4929bfae4f793e84dfee",
        "IPY_MODEL_02c5e789a1344720be68316b5cf249ec",
        "IPY_MODEL_ce6a6d2cfdf344a38739086bdc52ab73"
       ],
       "layout": "IPY_MODEL_fee507b63b23487ead68203c89aa4a56"
      }
     },
     "6acbd923ad5c4fc480c92215d01829ed": {
      "model_module": "@jupyter-widgets/base",
      "model_module_version": "2.0.0",
      "model_name": "LayoutModel",
      "state": {}
     },
     "6e5befc6de974680b08753acb083207f": {
      "model_module": "@jupyter-widgets/controls",
      "model_module_version": "2.0.0",
      "model_name": "HTMLStyleModel",
      "state": {
       "description_width": "",
       "font_size": null,
       "text_color": null
      }
     },
     "6f5fd8a3939042a88ac8dd47956fbff6": {
      "model_module": "@jupyter-widgets/controls",
      "model_module_version": "2.0.0",
      "model_name": "HTMLModel",
      "state": {
       "layout": "IPY_MODEL_8e99bb7d7b3f4250a802ccfd62db77d3",
       "style": "IPY_MODEL_cfbb2602d2b140c5add8e72bf9bd3b63",
       "value": " 1000/1000 [01:10&lt;00:00, 11.33it/s]"
      }
     },
     "70222a2adb2b42afa89d7cf47bba7dd9": {
      "model_module": "@jupyter-widgets/controls",
      "model_module_version": "2.0.0",
      "model_name": "ProgressStyleModel",
      "state": {
       "description_width": ""
      }
     },
     "711d5e3140554a32ae66ac45e4151673": {
      "model_module": "@jupyter-widgets/controls",
      "model_module_version": "2.0.0",
      "model_name": "HTMLStyleModel",
      "state": {
       "description_width": "",
       "font_size": null,
       "text_color": null
      }
     },
     "741e529ba3e141b1b9575e4e3d677269": {
      "model_module": "@jupyter-widgets/controls",
      "model_module_version": "2.0.0",
      "model_name": "ProgressStyleModel",
      "state": {
       "description_width": ""
      }
     },
     "744a439a3cb64adc9f165fed6a5fc302": {
      "model_module": "@jupyter-widgets/base",
      "model_module_version": "2.0.0",
      "model_name": "LayoutModel",
      "state": {}
     },
     "77a8170b741049deb1d330613ca64078": {
      "model_module": "@jupyter-widgets/base",
      "model_module_version": "2.0.0",
      "model_name": "LayoutModel",
      "state": {}
     },
     "7d3730294e8d44a090d745dd8ab35895": {
      "model_module": "@jupyter-widgets/controls",
      "model_module_version": "2.0.0",
      "model_name": "HTMLStyleModel",
      "state": {
       "description_width": "",
       "font_size": null,
       "text_color": null
      }
     },
     "7f7c0ccffe304b66bc5590be6558ed3c": {
      "model_module": "@jupyter-widgets/base",
      "model_module_version": "2.0.0",
      "model_name": "LayoutModel",
      "state": {}
     },
     "80f8fb31844d47378908b1efd582053a": {
      "model_module": "@jupyter-widgets/controls",
      "model_module_version": "2.0.0",
      "model_name": "HTMLModel",
      "state": {
       "layout": "IPY_MODEL_f2b65a4a3a3e42288972c23ecffebb19",
       "style": "IPY_MODEL_f5cf714bda3147239da734a53e4793f6",
       "value": " 6/6 [00:00&lt;00:00, 103.43it/s]"
      }
     },
     "823465f808e54632a9c4403e0be39b06": {
      "model_module": "@jupyter-widgets/controls",
      "model_module_version": "2.0.0",
      "model_name": "HTMLModel",
      "state": {
       "layout": "IPY_MODEL_8291ec5f81574ad380791806a512ce2c",
       "style": "IPY_MODEL_d2f85b0e953147d8abfe7bfc0d1180e0",
       "value": " 211/1000 [00:12&lt;00:52, 15.10it/s]"
      }
     },
     "8291ec5f81574ad380791806a512ce2c": {
      "model_module": "@jupyter-widgets/base",
      "model_module_version": "2.0.0",
      "model_name": "LayoutModel",
      "state": {}
     },
     "82d434c81eeb47438a3a7e6548feb4d0": {
      "model_module": "@jupyter-widgets/base",
      "model_module_version": "2.0.0",
      "model_name": "LayoutModel",
      "state": {}
     },
     "8b888a212cf14f0f8c439ab8a3675565": {
      "model_module": "@jupyter-widgets/base",
      "model_module_version": "2.0.0",
      "model_name": "LayoutModel",
      "state": {}
     },
     "8c64519d4ae040f189479f82ba020247": {
      "model_module": "@jupyter-widgets/controls",
      "model_module_version": "2.0.0",
      "model_name": "HBoxModel",
      "state": {
       "children": [
        "IPY_MODEL_01b8203e842e451d9d179c12b8bb1fcc",
        "IPY_MODEL_48dc2881df874acfbf12a7267f1053a5",
        "IPY_MODEL_5e76dc8a89d24dc09ea61ce5e4d816ff"
       ],
       "layout": "IPY_MODEL_7f7c0ccffe304b66bc5590be6558ed3c"
      }
     },
     "8df5401ac0f5436c84989813aafeaf59": {
      "model_module": "@jupyter-widgets/base",
      "model_module_version": "2.0.0",
      "model_name": "LayoutModel",
      "state": {}
     },
     "8e88696db9e642ffb77295f1b8011776": {
      "model_module": "@jupyter-widgets/controls",
      "model_module_version": "2.0.0",
      "model_name": "HTMLStyleModel",
      "state": {
       "description_width": "",
       "font_size": null,
       "text_color": null
      }
     },
     "8e99bb7d7b3f4250a802ccfd62db77d3": {
      "model_module": "@jupyter-widgets/base",
      "model_module_version": "2.0.0",
      "model_name": "LayoutModel",
      "state": {}
     },
     "8f6d8e37259f4ec286122a2e7cecd894": {
      "model_module": "@jupyter-widgets/controls",
      "model_module_version": "2.0.0",
      "model_name": "FloatProgressModel",
      "state": {
       "bar_style": "success",
       "layout": "IPY_MODEL_580e91ec147f408e8764b03f4b45a6f9",
       "max": 6,
       "style": "IPY_MODEL_d4f8bb18f16941ba8251677db7e0361d",
       "value": 6
      }
     },
     "967d11e0ab814fcb8101d4c8b934475a": {
      "model_module": "@jupyter-widgets/base",
      "model_module_version": "2.0.0",
      "model_name": "LayoutModel",
      "state": {}
     },
     "97071c2958f046fba3dc7d75880c9fd3": {
      "model_module": "@jupyter-widgets/controls",
      "model_module_version": "2.0.0",
      "model_name": "HTMLModel",
      "state": {
       "layout": "IPY_MODEL_678fac2ad2924633963096e6d95a38aa",
       "style": "IPY_MODEL_1367f38045e34446931680a61c1fbd62",
       "value": "Loading Data: 100%"
      }
     },
     "98c062412a684072938fe066f13a07e4": {
      "model_module": "@jupyter-widgets/controls",
      "model_module_version": "2.0.0",
      "model_name": "HTMLModel",
      "state": {
       "layout": "IPY_MODEL_ed6e6542ff954a6296ae69b6fa5feb9a",
       "style": "IPY_MODEL_b3217faa8ab144dcacd50bb9ca3c3662",
       "value": "Loading Data: 100%"
      }
     },
     "99a4c2542975474482d938ce2e410c5a": {
      "model_module": "@jupyter-widgets/base",
      "model_module_version": "2.0.0",
      "model_name": "LayoutModel",
      "state": {}
     },
     "9bb17e59433a481bab889a875b75c09e": {
      "model_module": "@jupyter-widgets/base",
      "model_module_version": "2.0.0",
      "model_name": "LayoutModel",
      "state": {}
     },
     "9e13cb4991e34f9b8391fdb6899d3c19": {
      "model_module": "@jupyter-widgets/controls",
      "model_module_version": "2.0.0",
      "model_name": "HTMLModel",
      "state": {
       "layout": "IPY_MODEL_06da9bf35cf74c6581729776b36528f0",
       "style": "IPY_MODEL_8e88696db9e642ffb77295f1b8011776",
       "value": "Loading Data: 100%"
      }
     },
     "9e83a87044ed4a8cb81a0ee95ff30061": {
      "model_module": "@jupyter-widgets/controls",
      "model_module_version": "2.0.0",
      "model_name": "ProgressStyleModel",
      "state": {
       "description_width": ""
      }
     },
     "9fb866e532594034b1691d7c1d67156e": {
      "model_module": "@jupyter-widgets/controls",
      "model_module_version": "2.0.0",
      "model_name": "HTMLModel",
      "state": {
       "layout": "IPY_MODEL_4ce06b7828784a11854902bfe7954ca8",
       "style": "IPY_MODEL_2a9ab2d5d75a41a9bc891bb52a0c3734",
       "value": "Loading Data: 100%"
      }
     },
     "a2fac61772184ab9b4a83569b8ee6886": {
      "model_module": "@jupyter-widgets/base",
      "model_module_version": "2.0.0",
      "model_name": "LayoutModel",
      "state": {}
     },
     "a3850839a84f48dbb6fec51c1c4bd741": {
      "model_module": "@jupyter-widgets/controls",
      "model_module_version": "2.0.0",
      "model_name": "HTMLModel",
      "state": {
       "layout": "IPY_MODEL_542103f80605425f9eda0ca218c6fa3f",
       "style": "IPY_MODEL_e00c64afa3354202be808fe84507afd7",
       "value": " 6/6 [00:00&lt;00:00, 111.36it/s]"
      }
     },
     "a415b99c86d9429ba1ac1f1e7f4a3685": {
      "model_module": "@jupyter-widgets/controls",
      "model_module_version": "2.0.0",
      "model_name": "FloatProgressModel",
      "state": {
       "bar_style": "success",
       "layout": "IPY_MODEL_b51a9f6f9b0c4d6eb7b77af7849c0166",
       "max": 6,
       "style": "IPY_MODEL_327d5f46be15499eb5e2402c48be0648",
       "value": 6
      }
     },
     "a7dc7b0b7fc7475fac6b511113c6490b": {
      "model_module": "@jupyter-widgets/controls",
      "model_module_version": "2.0.0",
      "model_name": "HBoxModel",
      "state": {
       "children": [
        "IPY_MODEL_04e0d8b215f14f1080aecd09c04d1481",
        "IPY_MODEL_2f622c5516f14fa6b1c561dfcf6902e9",
        "IPY_MODEL_823465f808e54632a9c4403e0be39b06"
       ],
       "layout": "IPY_MODEL_f4bfb207053846fd9caaffe02db468f4"
      }
     },
     "aa26efe40d56454d8bb13e856ed4f426": {
      "model_module": "@jupyter-widgets/controls",
      "model_module_version": "2.0.0",
      "model_name": "HTMLStyleModel",
      "state": {
       "description_width": "",
       "font_size": null,
       "text_color": null
      }
     },
     "ab38b6a3f8684d61b2dbcd8a904cc891": {
      "model_module": "@jupyter-widgets/base",
      "model_module_version": "2.0.0",
      "model_name": "LayoutModel",
      "state": {}
     },
     "ac23f0208d864158b0a4ac07606db86c": {
      "model_module": "@jupyter-widgets/controls",
      "model_module_version": "2.0.0",
      "model_name": "HBoxModel",
      "state": {
       "children": [
        "IPY_MODEL_97071c2958f046fba3dc7d75880c9fd3",
        "IPY_MODEL_a415b99c86d9429ba1ac1f1e7f4a3685",
        "IPY_MODEL_80f8fb31844d47378908b1efd582053a"
       ],
       "layout": "IPY_MODEL_5cc399f2f961475ea6eb2fc541b902fe"
      }
     },
     "afd656241c1745fbb41adac0eef67ebd": {
      "model_module": "@jupyter-widgets/controls",
      "model_module_version": "2.0.0",
      "model_name": "ProgressStyleModel",
      "state": {
       "description_width": ""
      }
     },
     "b06be2254ceb409baf1dfbfab22044fa": {
      "model_module": "@jupyter-widgets/controls",
      "model_module_version": "2.0.0",
      "model_name": "HTMLStyleModel",
      "state": {
       "description_width": "",
       "font_size": null,
       "text_color": null
      }
     },
     "b2e8e009804a4438998d1c3f90395bd7": {
      "model_module": "@jupyter-widgets/base",
      "model_module_version": "2.0.0",
      "model_name": "LayoutModel",
      "state": {}
     },
     "b3217faa8ab144dcacd50bb9ca3c3662": {
      "model_module": "@jupyter-widgets/controls",
      "model_module_version": "2.0.0",
      "model_name": "HTMLStyleModel",
      "state": {
       "description_width": "",
       "font_size": null,
       "text_color": null
      }
     },
     "b51a9f6f9b0c4d6eb7b77af7849c0166": {
      "model_module": "@jupyter-widgets/base",
      "model_module_version": "2.0.0",
      "model_name": "LayoutModel",
      "state": {}
     },
     "b967385bd4664957b0108bda638da38f": {
      "model_module": "@jupyter-widgets/controls",
      "model_module_version": "2.0.0",
      "model_name": "HBoxModel",
      "state": {
       "children": [
        "IPY_MODEL_9e13cb4991e34f9b8391fdb6899d3c19",
        "IPY_MODEL_8f6d8e37259f4ec286122a2e7cecd894",
        "IPY_MODEL_04509d00fc29432397e5699bb1940bb2"
       ],
       "layout": "IPY_MODEL_99a4c2542975474482d938ce2e410c5a"
      }
     },
     "ba71496ecfdf4a4fb2159181a5d06140": {
      "model_module": "@jupyter-widgets/base",
      "model_module_version": "2.0.0",
      "model_name": "LayoutModel",
      "state": {}
     },
     "bc7c841a40d64308bf6ab8d15c7b4d6d": {
      "model_module": "@jupyter-widgets/base",
      "model_module_version": "2.0.0",
      "model_name": "LayoutModel",
      "state": {}
     },
     "bed3bf173d204a518f27933ed8eaf232": {
      "model_module": "@jupyter-widgets/base",
      "model_module_version": "2.0.0",
      "model_name": "LayoutModel",
      "state": {}
     },
     "c3f84ab161204fce831270781569f2b9": {
      "model_module": "@jupyter-widgets/controls",
      "model_module_version": "2.0.0",
      "model_name": "FloatProgressModel",
      "state": {
       "bar_style": "success",
       "layout": "IPY_MODEL_8df5401ac0f5436c84989813aafeaf59",
       "max": 6,
       "style": "IPY_MODEL_741e529ba3e141b1b9575e4e3d677269",
       "value": 6
      }
     },
     "c95fbd124f454f56b07a21792dad2522": {
      "model_module": "@jupyter-widgets/base",
      "model_module_version": "2.0.0",
      "model_name": "LayoutModel",
      "state": {}
     },
     "cb2b4f76ded04a03a010995aa849c096": {
      "model_module": "@jupyter-widgets/base",
      "model_module_version": "2.0.0",
      "model_name": "LayoutModel",
      "state": {}
     },
     "cd8edd2353e54297a9010bb08030f622": {
      "model_module": "@jupyter-widgets/controls",
      "model_module_version": "2.0.0",
      "model_name": "HTMLModel",
      "state": {
       "layout": "IPY_MODEL_9bb17e59433a481bab889a875b75c09e",
       "style": "IPY_MODEL_16ae9cb4649d4037a6d93aa1103c92c0",
       "value": " 1000/1000 [01:35&lt;00:00,  7.95it/s]"
      }
     },
     "ce18e68c55af4929bfae4f793e84dfee": {
      "model_module": "@jupyter-widgets/controls",
      "model_module_version": "2.0.0",
      "model_name": "HTMLModel",
      "state": {
       "layout": "IPY_MODEL_2beab32a7c91437cb1ed75d864738693",
       "style": "IPY_MODEL_711d5e3140554a32ae66ac45e4151673",
       "value": "Best trial: 549. Best value: 26.5445: 100%"
      }
     },
     "ce6a6d2cfdf344a38739086bdc52ab73": {
      "model_module": "@jupyter-widgets/controls",
      "model_module_version": "2.0.0",
      "model_name": "HTMLModel",
      "state": {
       "layout": "IPY_MODEL_b2e8e009804a4438998d1c3f90395bd7",
       "style": "IPY_MODEL_f850ae3b75b44b2eab22729d7b46c173",
       "value": " 1000/1000 [01:17&lt;00:00,  9.83it/s]"
      }
     },
     "cfa254ccb44145bb8ddb3dd379712c15": {
      "model_module": "@jupyter-widgets/controls",
      "model_module_version": "2.0.0",
      "model_name": "ProgressStyleModel",
      "state": {
       "description_width": ""
      }
     },
     "cfbb2602d2b140c5add8e72bf9bd3b63": {
      "model_module": "@jupyter-widgets/controls",
      "model_module_version": "2.0.0",
      "model_name": "HTMLStyleModel",
      "state": {
       "description_width": "",
       "font_size": null,
       "text_color": null
      }
     },
     "d26f426ef2e5434f9e5c9a4631072cd1": {
      "model_module": "@jupyter-widgets/controls",
      "model_module_version": "2.0.0",
      "model_name": "HTMLStyleModel",
      "state": {
       "description_width": "",
       "font_size": null,
       "text_color": null
      }
     },
     "d2f85b0e953147d8abfe7bfc0d1180e0": {
      "model_module": "@jupyter-widgets/controls",
      "model_module_version": "2.0.0",
      "model_name": "HTMLStyleModel",
      "state": {
       "description_width": "",
       "font_size": null,
       "text_color": null
      }
     },
     "d4f8bb18f16941ba8251677db7e0361d": {
      "model_module": "@jupyter-widgets/controls",
      "model_module_version": "2.0.0",
      "model_name": "ProgressStyleModel",
      "state": {
       "description_width": ""
      }
     },
     "d52a4dc4e111405098dab51d645512b6": {
      "model_module": "@jupyter-widgets/controls",
      "model_module_version": "2.0.0",
      "model_name": "HTMLModel",
      "state": {
       "layout": "IPY_MODEL_77a8170b741049deb1d330613ca64078",
       "style": "IPY_MODEL_299cf0c207da464a897002cc27f729a7",
       "value": "Best trial: 985. Best value: 28.72: 100%"
      }
     },
     "d619309e9a1043fd89567f411d663c38": {
      "model_module": "@jupyter-widgets/base",
      "model_module_version": "2.0.0",
      "model_name": "LayoutModel",
      "state": {}
     },
     "d6ef54e57a294395834c022150c0f031": {
      "model_module": "@jupyter-widgets/base",
      "model_module_version": "2.0.0",
      "model_name": "LayoutModel",
      "state": {}
     },
     "d80f91e149c74992b7ef8221f555984b": {
      "model_module": "@jupyter-widgets/base",
      "model_module_version": "2.0.0",
      "model_name": "LayoutModel",
      "state": {}
     },
     "da5e1776f1f34b75a5b47f3f7c602fc6": {
      "model_module": "@jupyter-widgets/base",
      "model_module_version": "2.0.0",
      "model_name": "LayoutModel",
      "state": {}
     },
     "dcaa08a4ccb841d7828cbfbe205de133": {
      "model_module": "@jupyter-widgets/controls",
      "model_module_version": "2.0.0",
      "model_name": "ProgressStyleModel",
      "state": {
       "description_width": ""
      }
     },
     "e00c64afa3354202be808fe84507afd7": {
      "model_module": "@jupyter-widgets/controls",
      "model_module_version": "2.0.0",
      "model_name": "HTMLStyleModel",
      "state": {
       "description_width": "",
       "font_size": null,
       "text_color": null
      }
     },
     "e2722d6bef534b588925ba3295873703": {
      "model_module": "@jupyter-widgets/controls",
      "model_module_version": "2.0.0",
      "model_name": "HBoxModel",
      "state": {
       "children": [
        "IPY_MODEL_d52a4dc4e111405098dab51d645512b6",
        "IPY_MODEL_ec03dc746c0847fc845efd38f512efda",
        "IPY_MODEL_f04cadcf71174744bdd771e8a3e7d634"
       ],
       "layout": "IPY_MODEL_a2fac61772184ab9b4a83569b8ee6886"
      }
     },
     "e693df5507ca4cd2af3b6de51945c979": {
      "model_module": "@jupyter-widgets/controls",
      "model_module_version": "2.0.0",
      "model_name": "FloatProgressModel",
      "state": {
       "bar_style": "success",
       "layout": "IPY_MODEL_43adef62ff5f4e7eaef5d5f8bc442c36",
       "max": 1000,
       "style": "IPY_MODEL_cfa254ccb44145bb8ddb3dd379712c15",
       "value": 1000
      }
     },
     "ec03dc746c0847fc845efd38f512efda": {
      "model_module": "@jupyter-widgets/controls",
      "model_module_version": "2.0.0",
      "model_name": "FloatProgressModel",
      "state": {
       "bar_style": "success",
       "layout": "IPY_MODEL_ab38b6a3f8684d61b2dbcd8a904cc891",
       "max": 1000,
       "style": "IPY_MODEL_afd656241c1745fbb41adac0eef67ebd",
       "value": 1000
      }
     },
     "ed2fa396ae394fe1884d0589098710ed": {
      "model_module": "@jupyter-widgets/controls",
      "model_module_version": "2.0.0",
      "model_name": "HBoxModel",
      "state": {
       "children": [
        "IPY_MODEL_245665507e234b9f917c3fa6d6a75acc",
        "IPY_MODEL_e693df5507ca4cd2af3b6de51945c979",
        "IPY_MODEL_cd8edd2353e54297a9010bb08030f622"
       ],
       "layout": "IPY_MODEL_967d11e0ab814fcb8101d4c8b934475a"
      }
     },
     "ed6e6542ff954a6296ae69b6fa5feb9a": {
      "model_module": "@jupyter-widgets/base",
      "model_module_version": "2.0.0",
      "model_name": "LayoutModel",
      "state": {}
     },
     "f04cadcf71174744bdd771e8a3e7d634": {
      "model_module": "@jupyter-widgets/controls",
      "model_module_version": "2.0.0",
      "model_name": "HTMLModel",
      "state": {
       "layout": "IPY_MODEL_d619309e9a1043fd89567f411d663c38",
       "style": "IPY_MODEL_334bb1772b2941b4b24bd74f7fc7284b",
       "value": " 1000/1000 [01:36&lt;00:00,  7.85it/s]"
      }
     },
     "f1354386cd8045d1a00ac7118407861f": {
      "model_module": "@jupyter-widgets/controls",
      "model_module_version": "2.0.0",
      "model_name": "HTMLModel",
      "state": {
       "layout": "IPY_MODEL_472486fd8f4f4bc3a5c9a83db4fb2021",
       "style": "IPY_MODEL_5533614f560f4cdf91f5e4b99e6291a1",
       "value": " 1000/1000 [01:33&lt;00:00,  8.01it/s]"
      }
     },
     "f2b65a4a3a3e42288972c23ecffebb19": {
      "model_module": "@jupyter-widgets/base",
      "model_module_version": "2.0.0",
      "model_name": "LayoutModel",
      "state": {}
     },
     "f34554bf9a444e349840e29bf425d522": {
      "model_module": "@jupyter-widgets/controls",
      "model_module_version": "2.0.0",
      "model_name": "ProgressStyleModel",
      "state": {
       "description_width": ""
      }
     },
     "f4bfb207053846fd9caaffe02db468f4": {
      "model_module": "@jupyter-widgets/base",
      "model_module_version": "2.0.0",
      "model_name": "LayoutModel",
      "state": {}
     },
     "f5804729d1264655ac64fb506d7fc746": {
      "model_module": "@jupyter-widgets/controls",
      "model_module_version": "2.0.0",
      "model_name": "HBoxModel",
      "state": {
       "children": [
        "IPY_MODEL_98c062412a684072938fe066f13a07e4",
        "IPY_MODEL_c3f84ab161204fce831270781569f2b9",
        "IPY_MODEL_5b9dd96dea284d579b454c1c13fac7d6"
       ],
       "layout": "IPY_MODEL_402683c6ff2e4fa1acc0e1b3fc78202f"
      }
     },
     "f5a0563b0b974f21bb30cb5cb3aaf1c9": {
      "model_module": "@jupyter-widgets/controls",
      "model_module_version": "2.0.0",
      "model_name": "ProgressStyleModel",
      "state": {
       "description_width": ""
      }
     },
     "f5cf714bda3147239da734a53e4793f6": {
      "model_module": "@jupyter-widgets/controls",
      "model_module_version": "2.0.0",
      "model_name": "HTMLStyleModel",
      "state": {
       "description_width": "",
       "font_size": null,
       "text_color": null
      }
     },
     "f7de4f53f83740d3b469015fd044ea2f": {
      "model_module": "@jupyter-widgets/controls",
      "model_module_version": "2.0.0",
      "model_name": "HTMLStyleModel",
      "state": {
       "description_width": "",
       "font_size": null,
       "text_color": null
      }
     },
     "f850ae3b75b44b2eab22729d7b46c173": {
      "model_module": "@jupyter-widgets/controls",
      "model_module_version": "2.0.0",
      "model_name": "HTMLStyleModel",
      "state": {
       "description_width": "",
       "font_size": null,
       "text_color": null
      }
     },
     "f8eb0a52e53649e0afcc67119d502b2f": {
      "model_module": "@jupyter-widgets/controls",
      "model_module_version": "2.0.0",
      "model_name": "HTMLModel",
      "state": {
       "layout": "IPY_MODEL_da5e1776f1f34b75a5b47f3f7c602fc6",
       "style": "IPY_MODEL_6e5befc6de974680b08753acb083207f",
       "value": "Best trial: 796. Best value: 25.9464: 100%"
      }
     },
     "fee507b63b23487ead68203c89aa4a56": {
      "model_module": "@jupyter-widgets/base",
      "model_module_version": "2.0.0",
      "model_name": "LayoutModel",
      "state": {}
     }
    },
    "version_major": 2,
    "version_minor": 0
   }
  }
 },
 "nbformat": 4,
 "nbformat_minor": 5
}
