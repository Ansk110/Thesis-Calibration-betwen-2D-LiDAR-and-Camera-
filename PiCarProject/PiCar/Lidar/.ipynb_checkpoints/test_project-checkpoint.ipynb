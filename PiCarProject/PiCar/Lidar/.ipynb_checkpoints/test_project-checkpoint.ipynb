{
 "cells": [
  {
   "cell_type": "code",
   "execution_count": 1,
   "id": "9b4e091b-e332-46f5-99db-053e786f175a",
   "metadata": {},
   "outputs": [],
   "source": [
    "import cv2\n",
    "from cv2 import aruco as Aruco  # Ensure `aruco` is installed\n",
    "import numpy as np\n",
    "import matplotlib.pyplot as plt\n"
   ]
  },
  {
   "cell_type": "markdown",
   "id": "e4e99183-117d-47eb-a74a-5a024b3b7877",
   "metadata": {},
   "source": [
    "# Reading lidar data"
   ]
  },
  {
   "cell_type": "code",
   "execution_count": 2,
   "id": "bc7cc169-7fd4-4392-b43c-43748b9fd524",
   "metadata": {},
   "outputs": [],
   "source": [
    "from adafruit_rplidar import RPLidar\n"
   ]
  },
  {
   "cell_type": "code",
   "execution_count": 3,
   "id": "79e159f0-3732-4300-aa30-c6eabf5e99c1",
   "metadata": {},
   "outputs": [],
   "source": [
    "def get_lidar_data(port='/dev/ttyUSB0', baudrate=115200):\n",
    "    lidar = RPLidar(None, port)  # Update the port based on your device configuration\n",
    "    scan = next(lidar.iter_scans(max_buf_meas=500))\n",
    "    lidar.stop()\n",
    "    return scan"
   ]
  },
  {
   "cell_type": "code",
   "execution_count": 4,
   "id": "30fed59f-0328-4bf2-8290-23c86064a1a8",
   "metadata": {},
   "outputs": [],
   "source": [
    "def process_lidar_data(data):\n",
    "    data_np = np.array(data)\n",
    "    data_np[:, 1] = (data_np[:, 1]*np.pi)/180\n",
    "    x = data_np[:, 2]*np.sin(data_np[:, 1])\n",
    "    y = data_np[:, 2]*np.cos(data_np[:, 1])\n",
    "    return x, y"
   ]
  },
  {
   "cell_type": "code",
   "execution_count": 5,
   "id": "ce99bc38-cacd-4d3f-9d01-93464373b52d",
   "metadata": {},
   "outputs": [],
   "source": [
    "from tqdm.auto import tqdm"
   ]
  },
  {
   "cell_type": "code",
   "execution_count": null,
   "id": "194c4dab-73ef-4d93-a2c0-88e86a49f3d3",
   "metadata": {},
   "outputs": [],
   "source": []
  },
  {
   "cell_type": "code",
   "execution_count": 6,
   "id": "176d7e13-0792-4bf7-aa95-39d2fc5ba553",
   "metadata": {},
   "outputs": [
    {
     "ename": "RPLidarException",
     "evalue": "Failed to connect to the sensor due to: [Errno 2] could not open port /dev/ttyUSB1: [Errno 2] No such file or directory: '/dev/ttyUSB1'",
     "output_type": "error",
     "traceback": [
      "\u001b[0;31m---------------------------------------------------------------------------\u001b[0m",
      "\u001b[0;31mFileNotFoundError\u001b[0m                         Traceback (most recent call last)",
      "File \u001b[0;32m/usr/lib/python3/dist-packages/serial/serialposix.py:322\u001b[0m, in \u001b[0;36mSerial.open\u001b[0;34m(self)\u001b[0m\n\u001b[1;32m    321\u001b[0m \u001b[38;5;28;01mtry\u001b[39;00m:\n\u001b[0;32m--> 322\u001b[0m     \u001b[38;5;28mself\u001b[39m\u001b[38;5;241m.\u001b[39mfd \u001b[38;5;241m=\u001b[39m \u001b[43mos\u001b[49m\u001b[38;5;241;43m.\u001b[39;49m\u001b[43mopen\u001b[49m\u001b[43m(\u001b[49m\u001b[38;5;28;43mself\u001b[39;49m\u001b[38;5;241;43m.\u001b[39;49m\u001b[43mportstr\u001b[49m\u001b[43m,\u001b[49m\u001b[43m \u001b[49m\u001b[43mos\u001b[49m\u001b[38;5;241;43m.\u001b[39;49m\u001b[43mO_RDWR\u001b[49m\u001b[43m \u001b[49m\u001b[38;5;241;43m|\u001b[39;49m\u001b[43m \u001b[49m\u001b[43mos\u001b[49m\u001b[38;5;241;43m.\u001b[39;49m\u001b[43mO_NOCTTY\u001b[49m\u001b[43m \u001b[49m\u001b[38;5;241;43m|\u001b[39;49m\u001b[43m \u001b[49m\u001b[43mos\u001b[49m\u001b[38;5;241;43m.\u001b[39;49m\u001b[43mO_NONBLOCK\u001b[49m\u001b[43m)\u001b[49m\n\u001b[1;32m    323\u001b[0m \u001b[38;5;28;01mexcept\u001b[39;00m \u001b[38;5;167;01mOSError\u001b[39;00m \u001b[38;5;28;01mas\u001b[39;00m msg:\n",
      "\u001b[0;31mFileNotFoundError\u001b[0m: [Errno 2] No such file or directory: '/dev/ttyUSB1'",
      "\nDuring handling of the above exception, another exception occurred:\n",
      "\u001b[0;31mSerialException\u001b[0m                           Traceback (most recent call last)",
      "File \u001b[0;32m~/.local/lib/python3.9/site-packages/adafruit_rplidar.py:166\u001b[0m, in \u001b[0;36mRPLidar.connect\u001b[0;34m(self)\u001b[0m\n\u001b[1;32m    165\u001b[0m \u001b[38;5;28;01mtry\u001b[39;00m:\n\u001b[0;32m--> 166\u001b[0m     \u001b[38;5;28mself\u001b[39m\u001b[38;5;241m.\u001b[39m_serial_port \u001b[38;5;241m=\u001b[39m \u001b[43mserial\u001b[49m\u001b[38;5;241;43m.\u001b[39;49m\u001b[43mSerial\u001b[49m\u001b[43m(\u001b[49m\n\u001b[1;32m    167\u001b[0m \u001b[43m        \u001b[49m\u001b[38;5;28;43mself\u001b[39;49m\u001b[38;5;241;43m.\u001b[39;49m\u001b[43mport\u001b[49m\u001b[43m,\u001b[49m\u001b[43m \u001b[49m\u001b[38;5;28;43mself\u001b[39;49m\u001b[38;5;241;43m.\u001b[39;49m\u001b[43mbaudrate\u001b[49m\u001b[43m,\u001b[49m\n\u001b[1;32m    168\u001b[0m \u001b[43m        \u001b[49m\u001b[43mparity\u001b[49m\u001b[38;5;241;43m=\u001b[39;49m\u001b[43mserial\u001b[49m\u001b[38;5;241;43m.\u001b[39;49m\u001b[43mPARITY_NONE\u001b[49m\u001b[43m,\u001b[49m\u001b[43m \u001b[49m\u001b[43mstopbits\u001b[49m\u001b[38;5;241;43m=\u001b[39;49m\u001b[43mserial\u001b[49m\u001b[38;5;241;43m.\u001b[39;49m\u001b[43mSTOPBITS_ONE\u001b[49m\u001b[43m,\u001b[49m\n\u001b[1;32m    169\u001b[0m \u001b[43m        \u001b[49m\u001b[43mtimeout\u001b[49m\u001b[38;5;241;43m=\u001b[39;49m\u001b[38;5;28;43mself\u001b[39;49m\u001b[38;5;241;43m.\u001b[39;49m\u001b[43mtimeout\u001b[49m\u001b[43m,\u001b[49m\u001b[43m \u001b[49m\u001b[43mdsrdtr\u001b[49m\u001b[38;5;241;43m=\u001b[39;49m\u001b[38;5;28;43;01mTrue\u001b[39;49;00m\u001b[43m)\u001b[49m\n\u001b[1;32m    170\u001b[0m \u001b[38;5;28;01mexcept\u001b[39;00m serial\u001b[38;5;241m.\u001b[39mSerialException \u001b[38;5;28;01mas\u001b[39;00m err:\n",
      "File \u001b[0;32m/usr/lib/python3/dist-packages/serial/serialutil.py:244\u001b[0m, in \u001b[0;36mSerialBase.__init__\u001b[0;34m(self, port, baudrate, bytesize, parity, stopbits, timeout, xonxoff, rtscts, write_timeout, dsrdtr, inter_byte_timeout, exclusive, **kwargs)\u001b[0m\n\u001b[1;32m    243\u001b[0m \u001b[38;5;28;01mif\u001b[39;00m port \u001b[38;5;129;01mis\u001b[39;00m \u001b[38;5;129;01mnot\u001b[39;00m \u001b[38;5;28;01mNone\u001b[39;00m:\n\u001b[0;32m--> 244\u001b[0m     \u001b[38;5;28;43mself\u001b[39;49m\u001b[38;5;241;43m.\u001b[39;49m\u001b[43mopen\u001b[49m\u001b[43m(\u001b[49m\u001b[43m)\u001b[49m\n",
      "File \u001b[0;32m/usr/lib/python3/dist-packages/serial/serialposix.py:325\u001b[0m, in \u001b[0;36mSerial.open\u001b[0;34m(self)\u001b[0m\n\u001b[1;32m    324\u001b[0m     \u001b[38;5;28mself\u001b[39m\u001b[38;5;241m.\u001b[39mfd \u001b[38;5;241m=\u001b[39m \u001b[38;5;28;01mNone\u001b[39;00m\n\u001b[0;32m--> 325\u001b[0m     \u001b[38;5;28;01mraise\u001b[39;00m SerialException(msg\u001b[38;5;241m.\u001b[39merrno, \u001b[38;5;124m\"\u001b[39m\u001b[38;5;124mcould not open port \u001b[39m\u001b[38;5;132;01m{}\u001b[39;00m\u001b[38;5;124m: \u001b[39m\u001b[38;5;132;01m{}\u001b[39;00m\u001b[38;5;124m\"\u001b[39m\u001b[38;5;241m.\u001b[39mformat(\u001b[38;5;28mself\u001b[39m\u001b[38;5;241m.\u001b[39m_port, msg))\n\u001b[1;32m    326\u001b[0m \u001b[38;5;66;03m#~ fcntl.fcntl(self.fd, fcntl.F_SETFL, 0)  # set blocking\u001b[39;00m\n",
      "\u001b[0;31mSerialException\u001b[0m: [Errno 2] could not open port /dev/ttyUSB1: [Errno 2] No such file or directory: '/dev/ttyUSB1'",
      "\nDuring handling of the above exception, another exception occurred:\n",
      "\u001b[0;31mRPLidarException\u001b[0m                          Traceback (most recent call last)",
      "Cell \u001b[0;32mIn[6], line 2\u001b[0m\n\u001b[1;32m      1\u001b[0m port\u001b[38;5;241m=\u001b[39m\u001b[38;5;124m'\u001b[39m\u001b[38;5;124m/dev/ttyUSB1\u001b[39m\u001b[38;5;124m'\u001b[39m\n\u001b[0;32m----> 2\u001b[0m lidar \u001b[38;5;241m=\u001b[39m \u001b[43mRPLidar\u001b[49m\u001b[43m(\u001b[49m\u001b[38;5;28;43;01mNone\u001b[39;49;00m\u001b[43m,\u001b[49m\u001b[43m \u001b[49m\u001b[43mport\u001b[49m\u001b[43m)\u001b[49m  \u001b[38;5;66;03m# Update the port based on your device configuration\u001b[39;00m\n\u001b[1;32m      3\u001b[0m all_data \u001b[38;5;241m=\u001b[39m []\n\u001b[1;32m      4\u001b[0m N \u001b[38;5;241m=\u001b[39m \u001b[38;5;241m500\u001b[39m\n",
      "File \u001b[0;32m~/.local/lib/python3.9/site-packages/adafruit_rplidar.py:146\u001b[0m, in \u001b[0;36mRPLidar.__init__\u001b[0;34m(self, motor_pin, port, baudrate, timeout, logging)\u001b[0m\n\u001b[1;32m    143\u001b[0m     \u001b[38;5;28;01mglobal\u001b[39;00m serial\n\u001b[1;32m    144\u001b[0m     \u001b[38;5;28;01mimport\u001b[39;00m \u001b[38;5;21;01mserial\u001b[39;00m\n\u001b[0;32m--> 146\u001b[0m \u001b[38;5;28;43mself\u001b[39;49m\u001b[38;5;241;43m.\u001b[39;49m\u001b[43mconnect\u001b[49m\u001b[43m(\u001b[49m\u001b[43m)\u001b[49m\n\u001b[1;32m    147\u001b[0m \u001b[38;5;28mself\u001b[39m\u001b[38;5;241m.\u001b[39mstart_motor()\n",
      "File \u001b[0;32m~/.local/lib/python3.9/site-packages/adafruit_rplidar.py:171\u001b[0m, in \u001b[0;36mRPLidar.connect\u001b[0;34m(self)\u001b[0m\n\u001b[1;32m    166\u001b[0m     \u001b[38;5;28mself\u001b[39m\u001b[38;5;241m.\u001b[39m_serial_port \u001b[38;5;241m=\u001b[39m serial\u001b[38;5;241m.\u001b[39mSerial(\n\u001b[1;32m    167\u001b[0m         \u001b[38;5;28mself\u001b[39m\u001b[38;5;241m.\u001b[39mport, \u001b[38;5;28mself\u001b[39m\u001b[38;5;241m.\u001b[39mbaudrate,\n\u001b[1;32m    168\u001b[0m         parity\u001b[38;5;241m=\u001b[39mserial\u001b[38;5;241m.\u001b[39mPARITY_NONE, stopbits\u001b[38;5;241m=\u001b[39mserial\u001b[38;5;241m.\u001b[39mSTOPBITS_ONE,\n\u001b[1;32m    169\u001b[0m         timeout\u001b[38;5;241m=\u001b[39m\u001b[38;5;28mself\u001b[39m\u001b[38;5;241m.\u001b[39mtimeout, dsrdtr\u001b[38;5;241m=\u001b[39m\u001b[38;5;28;01mTrue\u001b[39;00m)\n\u001b[1;32m    170\u001b[0m \u001b[38;5;28;01mexcept\u001b[39;00m serial\u001b[38;5;241m.\u001b[39mSerialException \u001b[38;5;28;01mas\u001b[39;00m err:\n\u001b[0;32m--> 171\u001b[0m     \u001b[38;5;28;01mraise\u001b[39;00m RPLidarException(\u001b[38;5;124m'\u001b[39m\u001b[38;5;124mFailed to connect to the sensor \u001b[39m\u001b[38;5;124m'\u001b[39m\n\u001b[1;32m    172\u001b[0m                            \u001b[38;5;124m'\u001b[39m\u001b[38;5;124mdue to: \u001b[39m\u001b[38;5;132;01m%s\u001b[39;00m\u001b[38;5;124m'\u001b[39m \u001b[38;5;241m%\u001b[39m err)\n",
      "\u001b[0;31mRPLidarException\u001b[0m: Failed to connect to the sensor due to: [Errno 2] could not open port /dev/ttyUSB1: [Errno 2] No such file or directory: '/dev/ttyUSB1'"
     ]
    }
   ],
   "source": [
    "port='/dev/ttyUSB0'\n",
    "lidar = RPLidar(None, port)  # Update the port based on your device configuration\n",
    "all_data = []\n",
    "N = 500\n",
    "for i, scan in tqdm(enumerate(lidar.iter_scans()), desc=\"Scanning\", total=N):\n",
    "    if i >= N:\n",
    "        break\n",
    "    all_data.extend(scan)\n",
    "lidar.stop()"
   ]
  },
  {
   "cell_type": "code",
   "execution_count": null,
   "id": "a073d15d-c310-4ce9-8ff7-e31edcb26594",
   "metadata": {
    "scrolled": true
   },
   "outputs": [],
   "source": [
    "x, y = process_lidar_data(all_data)\n",
    "plt.scatter(x, y)"
   ]
  },
  {
   "cell_type": "code",
   "execution_count": null,
   "id": "c279e85d-8dfd-4d4f-9f8b-10cd27fe448f",
   "metadata": {},
   "outputs": [],
   "source": [
    "angle_offset = 0\n",
    "filter_data = [point for point in all_data if 0 <= point[1] <= 180]\n",
    "filter_data = np.array(filter_data)\n",
    "filter_data[:, 1] += angle_offset\n",
    "x, y = process_lidar_data(filter_data)\n",
    "plt.scatter(x, y)"
   ]
  },
  {
   "cell_type": "code",
   "execution_count": null,
   "id": "d119baa2-17d9-4609-a337-7a4da9e22489",
   "metadata": {},
   "outputs": [],
   "source": [
    "filter_data = [point for point in all_data if point[2] <= 1000]\n",
    "filter_data = np.array(filter_data)\n",
    "filter_data[:, 1] += angle_offset\n",
    "x, y = process_lidar_data(filter_data)\n",
    "plt.scatter(x, y)"
   ]
  },
  {
   "cell_type": "code",
   "execution_count": null,
   "id": "66e3aae5-740a-4594-a1b4-ba7c596c02f1",
   "metadata": {
    "scrolled": true
   },
   "outputs": [],
   "source": [
    "filter_data = [point for point in all_data if point[2] <= 1000 and point[1] < 90]\n",
    "filter_data = np.array(filter_data)\n",
    "filter_data[:, 1] += angle_offset\n",
    "x, y = process_lidar_data(filter_data)\n",
    "plt.scatter(x, y)"
   ]
  },
  {
   "cell_type": "code",
   "execution_count": null,
   "id": "b60b1df4-6886-4c96-b01e-6d5b212a2781",
   "metadata": {},
   "outputs": [],
   "source": [
    "filter_data = [point for point in all_data if point[2] <= 1000 and 90 < point[1] < 180]\n",
    "filter_data = np.array(filter_data)\n",
    "filter_data[:, 1] += angle_offset\n",
    "x, y = process_lidar_data(filter_data)\n",
    "plt.scatter(x, y)"
   ]
  },
  {
   "cell_type": "code",
   "execution_count": null,
   "id": "db65cca7-cb82-47b3-bec4-fc5d87e0a57e",
   "metadata": {},
   "outputs": [],
   "source": [
    "filter_data = [point for point in all_data if point[2] <= 1000 and point[1] < 180]\n",
    "filter_data = np.array(filter_data)\n",
    "filter_data[:, 1] += angle_offset\n",
    "x, y = process_lidar_data(filter_data)\n",
    "plt.scatter(x, y)"
   ]
  },
  {
   "cell_type": "code",
   "execution_count": null,
   "id": "a7d7c2ae-caa9-4a62-8d2d-2c07a2f0d5f2",
   "metadata": {},
   "outputs": [],
   "source": [
    "filter_data = [point for point in all_data if point[2] <= 1000 and point[1] > 180]\n",
    "filter_data = np.array(filter_data)\n",
    "filter_data[:, 1] += angle_offset\n",
    "x, y = process_lidar_data(filter_data)\n",
    "plt.scatter(x, y)"
   ]
  },
  {
   "cell_type": "code",
   "execution_count": null,
   "id": "d2f97988-a4b8-412b-bfd8-a445232aa192",
   "metadata": {},
   "outputs": [],
   "source": []
  }
 ],
 "metadata": {
  "kernelspec": {
   "display_name": "Python 3 (ipykernel)",
   "language": "python",
   "name": "python3"
  },
  "language_info": {
   "codemirror_mode": {
    "name": "ipython",
    "version": 3
   },
   "file_extension": ".py",
   "mimetype": "text/x-python",
   "name": "python",
   "nbconvert_exporter": "python",
   "pygments_lexer": "ipython3",
   "version": "3.9.2"
  }
 },
 "nbformat": 4,
 "nbformat_minor": 5
}
