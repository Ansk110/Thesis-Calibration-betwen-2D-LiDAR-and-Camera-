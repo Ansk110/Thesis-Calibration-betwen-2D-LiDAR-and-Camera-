{
 "cells": [
  {
   "cell_type": "code",
   "execution_count": 1,
   "id": "095fa2f0-13e2-4d36-8ba6-366596797992",
   "metadata": {},
   "outputs": [],
   "source": [
    "from picamera.array import PiRGBArray\n",
    "from picamera import PiCamera\n",
    "import time\n",
    "import cv2\n",
    "import os"
   ]
  },
  {
   "cell_type": "code",
   "execution_count": 2,
   "id": "9528a2c5-7051-4a2f-a3bf-6a3a52cc7f43",
   "metadata": {},
   "outputs": [],
   "source": [
    "W, H = (864, 544)\n",
    "\n",
    "camera = PiCamera()\n",
    "camera.resolution = (W, H)\n",
    "camera.framerate = 32"
   ]
  },
  {
   "cell_type": "code",
   "execution_count": 3,
   "id": "8c5d8284-12f8-4b69-bbad-e5ecb8ff8e30",
   "metadata": {},
   "outputs": [
    {
     "ename": "PiCameraValueError",
     "evalue": "Incorrect buffer length for resolution 864x544",
     "output_type": "error",
     "traceback": [
      "\u001b[0;31m---------------------------------------------------------------------------\u001b[0m",
      "\u001b[0;31mPiCameraValueError\u001b[0m                        Traceback (most recent call last)",
      "Cell \u001b[0;32mIn[3], line 8\u001b[0m\n\u001b[1;32m      5\u001b[0m image_index \u001b[38;5;241m=\u001b[39m \u001b[38;5;241m1\u001b[39m\n\u001b[1;32m      7\u001b[0m cv2\u001b[38;5;241m.\u001b[39mnamedWindow(\u001b[38;5;124m\"\u001b[39m\u001b[38;5;124mImage\u001b[39m\u001b[38;5;124m\"\u001b[39m)\n\u001b[0;32m----> 8\u001b[0m \u001b[38;5;28;01mfor\u001b[39;00m frame \u001b[38;5;129;01min\u001b[39;00m camera\u001b[38;5;241m.\u001b[39mcapture_continuous(rawCapture, \u001b[38;5;28mformat\u001b[39m\u001b[38;5;241m=\u001b[39m\u001b[38;5;124m\"\u001b[39m\u001b[38;5;124mbgr\u001b[39m\u001b[38;5;124m\"\u001b[39m, use_video_port\u001b[38;5;241m=\u001b[39m\u001b[38;5;28;01mTrue\u001b[39;00m):    \n\u001b[1;32m      9\u001b[0m     image \u001b[38;5;241m=\u001b[39m frame\u001b[38;5;241m.\u001b[39marray\n\u001b[1;32m     10\u001b[0m     cv2\u001b[38;5;241m.\u001b[39mimshow(\u001b[38;5;124m\"\u001b[39m\u001b[38;5;124mImage\u001b[39m\u001b[38;5;124m\"\u001b[39m, image)\n",
      "File \u001b[0;32m/usr/lib/python3/dist-packages/picamera/camera.py:1702\u001b[0m, in \u001b[0;36mPiCamera.capture_continuous\u001b[0;34m(self, output, format, use_video_port, resize, splitter_port, burst, bayer, **options)\u001b[0m\n\u001b[1;32m   1700\u001b[0m     camera_port\u001b[38;5;241m.\u001b[39mparams[mmal\u001b[38;5;241m.\u001b[39mMMAL_PARAMETER_ENABLE_RAW_CAPTURE] \u001b[38;5;241m=\u001b[39m \u001b[38;5;28;01mTrue\u001b[39;00m\n\u001b[1;32m   1701\u001b[0m encoder\u001b[38;5;241m.\u001b[39mstart(output)\n\u001b[0;32m-> 1702\u001b[0m \u001b[38;5;28;01mif\u001b[39;00m \u001b[38;5;129;01mnot\u001b[39;00m \u001b[43mencoder\u001b[49m\u001b[38;5;241;43m.\u001b[39;49m\u001b[43mwait\u001b[49m\u001b[43m(\u001b[49m\u001b[38;5;28;43mself\u001b[39;49m\u001b[38;5;241;43m.\u001b[39;49m\u001b[43mCAPTURE_TIMEOUT\u001b[49m\u001b[43m)\u001b[49m:\n\u001b[1;32m   1703\u001b[0m     \u001b[38;5;28;01mraise\u001b[39;00m PiCameraRuntimeError(\n\u001b[1;32m   1704\u001b[0m         \u001b[38;5;124m'\u001b[39m\u001b[38;5;124mTimed out waiting for capture to end\u001b[39m\u001b[38;5;124m'\u001b[39m)\n\u001b[1;32m   1705\u001b[0m \u001b[38;5;28;01myield\u001b[39;00m output\n",
      "File \u001b[0;32m/usr/lib/python3/dist-packages/picamera/encoders.py:395\u001b[0m, in \u001b[0;36mPiEncoder.wait\u001b[0;34m(self, timeout)\u001b[0m\n\u001b[1;32m    393\u001b[0m result \u001b[38;5;241m=\u001b[39m \u001b[38;5;28mself\u001b[39m\u001b[38;5;241m.\u001b[39mevent\u001b[38;5;241m.\u001b[39mwait(timeout)\n\u001b[1;32m    394\u001b[0m \u001b[38;5;28;01mif\u001b[39;00m result:\n\u001b[0;32m--> 395\u001b[0m     \u001b[38;5;28;43mself\u001b[39;49m\u001b[38;5;241;43m.\u001b[39;49m\u001b[43mstop\u001b[49m\u001b[43m(\u001b[49m\u001b[43m)\u001b[49m\n\u001b[1;32m    396\u001b[0m     \u001b[38;5;66;03m# Check whether the callback set an exception\u001b[39;00m\n\u001b[1;32m    397\u001b[0m     \u001b[38;5;28;01mif\u001b[39;00m \u001b[38;5;28mself\u001b[39m\u001b[38;5;241m.\u001b[39mexception:\n",
      "File \u001b[0;32m/usr/lib/python3/dist-packages/picamera/encoders.py:419\u001b[0m, in \u001b[0;36mPiEncoder.stop\u001b[0;34m(self)\u001b[0m\n\u001b[1;32m    417\u001b[0m     \u001b[38;5;28mself\u001b[39m\u001b[38;5;241m.\u001b[39moutput_port\u001b[38;5;241m.\u001b[39mdisable()\n\u001b[1;32m    418\u001b[0m \u001b[38;5;28mself\u001b[39m\u001b[38;5;241m.\u001b[39mevent\u001b[38;5;241m.\u001b[39mset()\n\u001b[0;32m--> 419\u001b[0m \u001b[38;5;28;43mself\u001b[39;49m\u001b[38;5;241;43m.\u001b[39;49m\u001b[43m_close_output\u001b[49m\u001b[43m(\u001b[49m\u001b[43m)\u001b[49m\n",
      "File \u001b[0;32m/usr/lib/python3/dist-packages/picamera/encoders.py:349\u001b[0m, in \u001b[0;36mPiEncoder._close_output\u001b[0;34m(self, key)\u001b[0m\n\u001b[1;32m    347\u001b[0m     \u001b[38;5;28;01mpass\u001b[39;00m\n\u001b[1;32m    348\u001b[0m \u001b[38;5;28;01melse\u001b[39;00m:\n\u001b[0;32m--> 349\u001b[0m     \u001b[43mmo\u001b[49m\u001b[38;5;241;43m.\u001b[39;49m\u001b[43mclose_stream\u001b[49m\u001b[43m(\u001b[49m\u001b[43moutput\u001b[49m\u001b[43m,\u001b[49m\u001b[43m \u001b[49m\u001b[43mopened\u001b[49m\u001b[43m)\u001b[49m\n",
      "File \u001b[0;32m/usr/lib/python3/dist-packages/picamera/mmalobj.py:371\u001b[0m, in \u001b[0;36mclose_stream\u001b[0;34m(stream, opened)\u001b[0m\n\u001b[1;32m    369\u001b[0m \u001b[38;5;28;01melse\u001b[39;00m:\n\u001b[1;32m    370\u001b[0m     \u001b[38;5;28;01mtry\u001b[39;00m:\n\u001b[0;32m--> 371\u001b[0m         \u001b[43mstream\u001b[49m\u001b[38;5;241;43m.\u001b[39;49m\u001b[43mflush\u001b[49m\u001b[43m(\u001b[49m\u001b[43m)\u001b[49m\n\u001b[1;32m    372\u001b[0m     \u001b[38;5;28;01mexcept\u001b[39;00m \u001b[38;5;167;01mAttributeError\u001b[39;00m:\n\u001b[1;32m    373\u001b[0m         \u001b[38;5;28;01mpass\u001b[39;00m\n",
      "File \u001b[0;32m/usr/lib/python3/dist-packages/picamera/array.py:238\u001b[0m, in \u001b[0;36mPiRGBArray.flush\u001b[0;34m(self)\u001b[0m\n\u001b[1;32m    236\u001b[0m \u001b[38;5;28;01mdef\u001b[39;00m \u001b[38;5;21mflush\u001b[39m(\u001b[38;5;28mself\u001b[39m):\n\u001b[1;32m    237\u001b[0m     \u001b[38;5;28msuper\u001b[39m(PiRGBArray, \u001b[38;5;28mself\u001b[39m)\u001b[38;5;241m.\u001b[39mflush()\n\u001b[0;32m--> 238\u001b[0m     \u001b[38;5;28mself\u001b[39m\u001b[38;5;241m.\u001b[39marray \u001b[38;5;241m=\u001b[39m \u001b[43mbytes_to_rgb\u001b[49m\u001b[43m(\u001b[49m\u001b[38;5;28;43mself\u001b[39;49m\u001b[38;5;241;43m.\u001b[39;49m\u001b[43mgetvalue\u001b[49m\u001b[43m(\u001b[49m\u001b[43m)\u001b[49m\u001b[43m,\u001b[49m\u001b[43m \u001b[49m\u001b[38;5;28;43mself\u001b[39;49m\u001b[38;5;241;43m.\u001b[39;49m\u001b[43msize\u001b[49m\u001b[43m \u001b[49m\u001b[38;5;129;43;01mor\u001b[39;49;00m\u001b[43m \u001b[49m\u001b[38;5;28;43mself\u001b[39;49m\u001b[38;5;241;43m.\u001b[39;49m\u001b[43mcamera\u001b[49m\u001b[38;5;241;43m.\u001b[39;49m\u001b[43mresolution\u001b[49m\u001b[43m)\u001b[49m\n",
      "File \u001b[0;32m/usr/lib/python3/dist-packages/picamera/array.py:126\u001b[0m, in \u001b[0;36mbytes_to_rgb\u001b[0;34m(data, resolution)\u001b[0m\n\u001b[1;32m    124\u001b[0m     fwidth, fheight \u001b[38;5;241m=\u001b[39m raw_resolution(resolution, splitter\u001b[38;5;241m=\u001b[39m\u001b[38;5;28;01mTrue\u001b[39;00m)\n\u001b[1;32m    125\u001b[0m     \u001b[38;5;28;01mif\u001b[39;00m \u001b[38;5;28mlen\u001b[39m(data) \u001b[38;5;241m!=\u001b[39m (fwidth \u001b[38;5;241m*\u001b[39m fheight \u001b[38;5;241m*\u001b[39m \u001b[38;5;241m3\u001b[39m):\n\u001b[0;32m--> 126\u001b[0m         \u001b[38;5;28;01mraise\u001b[39;00m PiCameraValueError(\n\u001b[1;32m    127\u001b[0m             \u001b[38;5;124m'\u001b[39m\u001b[38;5;124mIncorrect buffer length for resolution \u001b[39m\u001b[38;5;132;01m%d\u001b[39;00m\u001b[38;5;124mx\u001b[39m\u001b[38;5;132;01m%d\u001b[39;00m\u001b[38;5;124m'\u001b[39m \u001b[38;5;241m%\u001b[39m (width, height))\n\u001b[1;32m    128\u001b[0m \u001b[38;5;66;03m# Crop to the actual resolution\u001b[39;00m\n\u001b[1;32m    129\u001b[0m \u001b[38;5;28;01mreturn\u001b[39;00m np\u001b[38;5;241m.\u001b[39mfrombuffer(data, dtype\u001b[38;5;241m=\u001b[39mnp\u001b[38;5;241m.\u001b[39muint8)\u001b[38;5;241m.\u001b[39m\\\n\u001b[1;32m    130\u001b[0m         reshape((fheight, fwidth, \u001b[38;5;241m3\u001b[39m))[:height, :width, :]\n",
      "\u001b[0;31mPiCameraValueError\u001b[0m: Incorrect buffer length for resolution 864x544"
     ]
    }
   ],
   "source": [
    "rawCapture = PiRGBArray(camera, size=(W, H))\n",
    "time.sleep(5)\n",
    "\n",
    "capture_images = False  \n",
    "image_index = 1\n",
    "\n",
    "cv2.namedWindow(\"Image\")\n",
    "for frame in camera.capture_continuous(rawCapture, format=\"bgr\", use_video_port=True):    \n",
    "    image = frame.array\n",
    "    cv2.imshow(\"Image\", image)\n",
    "    rawCapture.truncate(0)"
   ]
  },
  {
   "cell_type": "code",
   "execution_count": null,
   "id": "f7e7c533-9b18-4464-951c-8e6709b3bab4",
   "metadata": {},
   "outputs": [],
   "source": [
    "rawCapture.truncate(0)\n",
    "\n",
    "camera.close()\n",
    "cv2.destroyAllWindows()"
   ]
  },
  {
   "cell_type": "code",
   "execution_count": null,
   "id": "cadd4547-73b8-45fc-b922-a696fe20dd94",
   "metadata": {},
   "outputs": [],
   "source": []
  }
 ],
 "metadata": {
  "kernelspec": {
   "display_name": "Python 3 (ipykernel)",
   "language": "python",
   "name": "python3"
  },
  "language_info": {
   "codemirror_mode": {
    "name": "ipython",
    "version": 3
   },
   "file_extension": ".py",
   "mimetype": "text/x-python",
   "name": "python",
   "nbconvert_exporter": "python",
   "pygments_lexer": "ipython3",
   "version": "3.9.2"
  }
 },
 "nbformat": 4,
 "nbformat_minor": 5
}
